{
 "cells": [
  {
   "cell_type": "markdown",
   "metadata": {},
   "source": [
    "<html>\n",
    "<table width=\"100%\" cellspacing=\"2\" cellpadding=\"2\" border=\"1\">\n",
    "<tbody>\n",
    "<tr>\n",
    "<td valign=\"center\" align=\"center\" width=\"25%\"><img src=\"./media/decartes.jpg\"\n",
    "alt=\"DeCART Icon\" width=\"128\" height=\"171\"><br>\n",
    "</td>\n",
    "<td valign=\"center\" align=\"center\" width=\"75%\">\n",
    "<h1 align=\"center\"><font size=\"+3\">DeCART Summer School<br>\n",
    "for<br>\n",
    "Biomedical Data Science</font></h1></td>\n",
    "<td valign=\"center\" align=\"center\" width=\"25%\"><img\n",
    "src=\"./media/U_Health_stacked_png_red.png\" alt=\"Utah Health\n",
    "Logo\" width=\"128\" height=\"134\"><br>\n",
    "</td>\n",
    "</tr>\n",
    "</tbody>\n",
    "</table>\n",
    "<br>\n",
    "</html>\n",
    "\n",
    "<html>\n",
    "<h1 align=\"center\"><font size=\"+10\">Welcome!</font></h1>\n",
    "</html>"
   ]
  },
  {
   "cell_type": "markdown",
   "metadata": {},
   "source": [
    "## What is DeCART?\n",
    "\n",
    "### Data, exploration, Computation, and Analytics Real-world Training for the Health Sciences\n",
    "\n",
    "### Or...\n",
    "\n",
    "## Punk (DIY) Data Science! \n",
    "![The Clash](https://cdn.cnn.com/cnnnext/dam/assets/130907063628-08-punk-history-restricted-horizontal-large-gallery.jpg)\n",
    "\n",
    "## Punk?\n",
    "\n",
    "<html>\n",
    "    <blockquote><font size=\"+1\">Ultimately, being a DIY punk has little to do with what you are wearing or listening to and everything with how you choose to interact with the world around you. (Dunn, Kevin. <em>Global Punk: Resistance and Rebellion in Everyday Life</em> (p. 12). Bloomsbury Publishing.</font></blockquote>\n",
    "</html>\n",
    "\n"
   ]
  },
  {
   "cell_type": "markdown",
   "metadata": {},
   "source": [
    "# What is the day going to look like?\n",
    "\n",
    "1. Introductions\n",
    "1. Create Groups\n",
    "1. Join Slack\n",
    "1. Fork GitHub Repository\n",
    "1. Clone forked GitHub repository\n",
    "1. Get Started\n",
    "1. Eat lunch/take a break\n",
    "1. Work some more\n",
    "1. Call it quits (around 4:00)\n",
    "\n",
    "## Create Groups\n",
    "\n",
    "1. Get into groups of four (ideally). Decide on different roles for each of you according to the [Pogil roles](https://pogil.org/uploads/attachments/cj8omoyxb0c4ri8x4qp52fmw2-2017-pogil-laminated-role-cards.pdf)\n",
    "1. Get to know each other\n",
    "1. Have the presenter in the group share something unique about each member of the group\n",
    "\n",
    "## Slack channel\n",
    "\n",
    "<html><h1 align=\"center\"><font size=\"+3\">http://bit.ly/uudecart1_slack</font></h1></html>\n",
    "\n",
    "## GitHub Repository\n",
    "\n",
    "<html><h1 align=\"center\"><font size=\"+3\">http://bit.ly/uudecart1_github</font></h1></html>\n"
   ]
  },
  {
   "cell_type": "code",
   "execution_count": null,
   "metadata": {},
   "outputs": [],
   "source": []
  }
 ],
 "metadata": {
  "kernelspec": {
   "display_name": "Python 3",
   "language": "python",
   "name": "python3"
  },
  "language_info": {
   "codemirror_mode": {
    "name": "ipython",
    "version": 3
   },
   "file_extension": ".py",
   "mimetype": "text/x-python",
   "name": "python",
   "nbconvert_exporter": "python",
   "pygments_lexer": "ipython3",
   "version": "3.7.2"
  },
  "latex_envs": {
   "LaTeX_envs_menu_present": true,
   "autoclose": false,
   "autocomplete": true,
   "bibliofile": "biblio.bib",
   "cite_by": "apalike",
   "current_citInitial": 1,
   "eqLabelWithNumbers": true,
   "eqNumInitial": 1,
   "hotkeys": {
    "equation": "Ctrl-E",
    "itemize": "Ctrl-I"
   },
   "labels_anchors": false,
   "latex_user_defs": false,
   "report_style_numbering": false,
   "user_envs_cfg": false
  }
 },
 "nbformat": 4,
 "nbformat_minor": 2
}
